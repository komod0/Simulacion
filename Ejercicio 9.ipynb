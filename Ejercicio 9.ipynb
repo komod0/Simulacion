{
 "cells": [
  {
   "cell_type": "code",
   "execution_count": 2,
   "metadata": {},
   "outputs": [],
   "source": [
    "from mpl_toolkits.mplot3d import Axes3D\n",
    "import numpy as np\n",
    "import matplotlib.pyplot as plt\n",
    "import seaborn as sns\n",
    "from scipy.stats import chisquare\n",
    "plt.rcParams[\"figure.figsize\"] = (10,10)"
   ]
  },
  {
   "cell_type": "markdown",
   "metadata": {},
   "source": [
    "## Ejercicio 9:"
   ]
  },
  {
   "cell_type": "markdown",
   "metadata": {},
   "source": [
    "### Realizar un test Chi² a la distribución empírica implementada en el Ej 6, y analizar el resultado indicando si la distribución puede o no ser aceptada.\n",
    "### Considerar un nivel de significación del 1%.\n",
    "### En caso que la distribución de probabilidades no pase el test con un nivel de significación del 1% volver a realizarlo con un nivel de significación del 5%."
   ]
  },
  {
   "cell_type": "markdown",
   "metadata": {},
   "source": [
    "## Obtengo la distribucion generada en el ejercicio 6"
   ]
  },
  {
   "cell_type": "code",
   "execution_count": 3,
   "metadata": {},
   "outputs": [],
   "source": [
    "SEED = np.floor((100680+101046+101018+100490) / 4)"
   ]
  },
  {
   "cell_type": "code",
   "execution_count": 4,
   "metadata": {},
   "outputs": [],
   "source": [
    "##Generador uiforme [0,1] del ejercicio (1)\n",
    "def uniform (n,seed,a,c,m):\n",
    "    x = seed\n",
    "    vector = []\n",
    "    for i in range(n):\n",
    "        x = ((a*x+c)%m)\n",
    "        vector.append(x/m)\n",
    "    return vector"
   ]
  },
  {
   "cell_type": "code",
   "execution_count": 5,
   "metadata": {},
   "outputs": [],
   "source": [
    "rand = uniform(100000,SEED,1013904223,1664525,2**32)\n",
    "gen = []\n",
    "for num in rand:\n",
    "    if (num <= 0.1):\n",
    "        gen.append(1)\n",
    "    elif ((num > 0.1) & (num <= 0.6)):\n",
    "        gen.append(2)\n",
    "    elif ((num > 0.6) & (num <= 0.9)):\n",
    "        gen.append(3)\n",
    "    else: #((num > 0.9) & (num < 1)):\n",
    "        gen.append(4)"
   ]
  },
  {
   "cell_type": "markdown",
   "metadata": {},
   "source": [
    "## Test chi²"
   ]
  },
  {
   "cell_type": "code",
   "execution_count": 6,
   "metadata": {},
   "outputs": [],
   "source": [
    "def obtener_frecuencias(val):\n",
    "    frecuencias = []\n",
    "    contador = 0\n",
    "    for i in range(1, max(val) + 1):\n",
    "        for j in val:\n",
    "            if (j == i):\n",
    "                contador += 1\n",
    "        frecuencias.append(contador)\n",
    "        contador = 0\n",
    "    return frecuencias"
   ]
  },
  {
   "cell_type": "code",
   "execution_count": 9,
   "metadata": {},
   "outputs": [
    {
     "data": {
      "text/plain": [
       "Power_divergenceResult(statistic=26.744813333333333, pvalue=6.659013098659884e-06)"
      ]
     },
     "execution_count": 9,
     "metadata": {},
     "output_type": "execute_result"
    }
   ],
   "source": [
    "frecuencias_observadas = obtener_frecuencias(gen)\n",
    "frecuencias_esperadas = [0.1*len(gen), 0.5*len(gen), 0.3*len(gen), 0.1*len(gen)]\n",
    "chisquare(frecuencias_observadas, frecuencias_esperadas)"
   ]
  },
  {
   "cell_type": "markdown",
   "metadata": {},
   "source": [
    "## Nuevamente el generador aleatorio del ejercicio 1 supera el test chi², debido a que el p-valor tiende a 0 se rechaza la hipotesis nula de que el generador no es aleatorio."
   ]
  },
  {
   "cell_type": "code",
   "execution_count": 10,
   "metadata": {},
   "outputs": [
    {
     "data": {
      "text/plain": [
       "[9519, 50117, 30260, 10104]"
      ]
     },
     "execution_count": 10,
     "metadata": {},
     "output_type": "execute_result"
    }
   ],
   "source": [
    "frecuencias_observadas"
   ]
  },
  {
   "cell_type": "code",
   "execution_count": 11,
   "metadata": {},
   "outputs": [
    {
     "data": {
      "text/plain": [
       "[10000.0, 50000.0, 30000.0, 10000.0]"
      ]
     },
     "execution_count": 11,
     "metadata": {},
     "output_type": "execute_result"
    }
   ],
   "source": [
    "frecuencias_esperadas"
   ]
  },
  {
   "cell_type": "code",
   "execution_count": null,
   "metadata": {},
   "outputs": [],
   "source": []
  }
 ],
 "metadata": {
  "kernelspec": {
   "display_name": "Python 3",
   "language": "python",
   "name": "python3"
  },
  "language_info": {
   "codemirror_mode": {
    "name": "ipython",
    "version": 3
   },
   "file_extension": ".py",
   "mimetype": "text/x-python",
   "name": "python",
   "nbconvert_exporter": "python",
   "pygments_lexer": "ipython3",
   "version": "3.6.8"
  }
 },
 "nbformat": 4,
 "nbformat_minor": 4
}
