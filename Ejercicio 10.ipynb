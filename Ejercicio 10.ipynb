{
 "cells": [
  {
   "cell_type": "code",
   "execution_count": 3,
   "metadata": {},
   "outputs": [],
   "source": [
    "from mpl_toolkits.mplot3d import Axes3D\n",
    "import numpy as np\n",
    "import matplotlib.pyplot as plt\n",
    "import seaborn as sns\n",
    "from scipy.stats import kstest\n",
    "from scipy.stats import norm\n",
    "plt.rcParams[\"figure.figsize\"] = (10,10)"
   ]
  },
  {
   "cell_type": "markdown",
   "metadata": {},
   "source": [
    "## Ejercicio 10:\n",
    "### Aplicar el test de Kolmogorov-Smirnov al generador de números al azar con distribución normal generado en el ejercicio 3.\n",
    "### Analizar el resultado del mismo, e indicar si la distribución puede o no ser aceptada.\n",
    "### Considerar un nivel de significación del 1%.\n",
    "### En caso que la distribución de probabilidades no pase el test con un nivel de significación del 1% volver a realizarlo con un nivel de significación del 5%."
   ]
  },
  {
   "cell_type": "code",
   "execution_count": 4,
   "metadata": {},
   "outputs": [],
   "source": [
    "SEED = np.floor((100680+101046+101018+100490) / 4)"
   ]
  },
  {
   "cell_type": "code",
   "execution_count": 5,
   "metadata": {},
   "outputs": [],
   "source": [
    "def dens_normal(sigma, mu, x):\n",
    "    a = 1/(sigma*np.sqrt(2*np.pi))\n",
    "    b = np.exp(-((x-mu)**2)/(2*sigma**2))\n",
    "    return a*b\n",
    "\n",
    "def dens_exp(lbda, x):\n",
    "    return lbda * 1*np.exp(-lbda * abs(x))"
   ]
  },
  {
   "cell_type": "code",
   "execution_count": 6,
   "metadata": {},
   "outputs": [],
   "source": [
    "#Para aceptar o rechazar\n",
    "c = 75/5\n",
    "\n",
    "def aceptar(x):\n",
    "    u = np.random.rand()\n",
    "    a = dens_normal(np.sqrt(3), 15, x)/ (c * (dens_exp(1/15, x)))\n",
    "    return u < a\n",
    "    \n",
    "    "
   ]
  },
  {
   "cell_type": "code",
   "execution_count": 7,
   "metadata": {},
   "outputs": [],
   "source": [
    "cant_gen = 0\n",
    "rechazados = 0\n",
    "gen = []\n",
    "while (cant_gen < 100000):\n",
    "    x = np.random.exponential(scale = 15, size = 1)[0] #scale = 1/lambda\n",
    "    u = np.random.rand()\n",
    "    if (u < 0.5):\n",
    "        x = -x\n",
    "    if (aceptar(x)):\n",
    "        cant_gen+=1\n",
    "        gen.append(x)\n",
    "    else: \n",
    "        rechazados+=1"
   ]
  },
  {
   "cell_type": "markdown",
   "metadata": {},
   "source": [
    "### El test de kolmogorov smirnov consiste en hallar el la maxima diferencia en modulo entre la funcion de distribucion de probabilidad acumulada real contra la funcion de distribucion de probabilidad acumulada empirica que tiene la muestra."
   ]
  },
  {
   "cell_type": "code",
   "execution_count": 8,
   "metadata": {},
   "outputs": [
    {
     "data": {
      "text/plain": [
       "100000"
      ]
     },
     "execution_count": 8,
     "metadata": {},
     "output_type": "execute_result"
    }
   ],
   "source": [
    "len(gen)"
   ]
  },
  {
   "cell_type": "code",
   "execution_count": 9,
   "metadata": {},
   "outputs": [],
   "source": [
    "gen = sorted(gen)"
   ]
  },
  {
   "cell_type": "code",
   "execution_count": 16,
   "metadata": {},
   "outputs": [
    {
     "data": {
      "image/png": "[encoded data removed]",
      "text/plain": [
       "<Figure size 720x720 with 1 Axes>"
      ]
     },
     "metadata": {
      "needs_background": "light"
     },
     "output_type": "display_data"
    }
   ],
   "source": [
    "sns.distplot(gen)\n",
    "plt.grid();"
   ]
  },
  {
   "cell_type": "markdown",
   "metadata": {},
   "source": [
    "## Test:"
   ]
  },
  {
   "cell_type": "code",
   "execution_count": 21,
   "metadata": {},
   "outputs": [
    {
     "data": {
      "text/plain": [
       "0.1297559727018518"
      ]
     },
     "execution_count": 21,
     "metadata": {},
     "output_type": "execute_result"
    }
   ],
   "source": [
    "max_dif = 0\n",
    "aux = 0\n",
    "for i in range(len(gen)):\n",
    "    aux = abs( ((i+1)/len(gen)) - (norm.cdf(gen[i], loc = 15, scale = 3)) )\n",
    "    if ( aux > max_dif):\n",
    "        max_dif = aux\n",
    "max_dif"
   ]
  },
  {
   "cell_type": "markdown",
   "metadata": {},
   "source": [
    "## Mismo test usando Scipy"
   ]
  },
  {
   "cell_type": "code",
   "execution_count": 26,
   "metadata": {},
   "outputs": [
    {
     "data": {
      "text/plain": [
       "KstestResult(statistic=0.12976597270185178, pvalue=0.0)"
      ]
     },
     "execution_count": 26,
     "metadata": {},
     "output_type": "execute_result"
    }
   ],
   "source": [
    "kstest(gen, 'norm', args=(15, 3))"
   ]
  },
  {
   "cell_type": "markdown",
   "metadata": {},
   "source": [
    "## Nuevamente el p-valor es muy cercano a 0 por lo que la distribucion es aceptada con un nivel de significacion del 1% (o del 0.0000000000000000001%)"
   ]
  },
  {
   "cell_type": "code",
   "execution_count": null,
   "metadata": {},
   "outputs": [],
   "source": []
  }
 ],
 "metadata": {
  "kernelspec": {
   "display_name": "Python 3",
   "language": "python",
   "name": "python3"
  },
  "language_info": {
   "codemirror_mode": {
    "name": "ipython",
    "version": 3
   },
   "file_extension": ".py",
   "mimetype": "text/x-python",
   "name": "python",
   "nbconvert_exporter": "python",
   "pygments_lexer": "ipython3",
   "version": "3.6.8"
  }
 },
 "nbformat": 4,
 "nbformat_minor": 4
}
