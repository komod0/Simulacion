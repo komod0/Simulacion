{
 "cells": [
  {
   "cell_type": "code",
   "execution_count": 4,
   "metadata": {},
   "outputs": [],
   "source": [
    "from mpl_toolkits.mplot3d import Axes3D\n",
    "import numpy as np\n",
    "import matplotlib.pyplot as plt\n",
    "import seaborn as sns\n",
    "from scipy.stats import chisquare\n",
    "plt.rcParams[\"figure.figsize\"] = (10,10)"
   ]
  },
  {
   "cell_type": "markdown",
   "metadata": {},
   "source": [
    "## Defino el generador del ejercicio 1"
   ]
  },
  {
   "cell_type": "code",
   "execution_count": 2,
   "metadata": {},
   "outputs": [],
   "source": [
    "SEED = np.floor((100680+101046+101018+100490) / 4)\n",
    "def gen_lin_norm (n,seed,a,c,m):\n",
    "    x = seed\n",
    "    vector = []\n",
    "    for i in range(n):\n",
    "        x = ((a*x+c)%m)\n",
    "        vector.append(x/m)\n",
    "    return vector"
   ]
  },
  {
   "cell_type": "markdown",
   "metadata": {},
   "source": [
    "## Test espectral en 2 dimensiones (tomo de a pares los numeros generados y analizo si hay o no patrones visibles)"
   ]
  },
  {
   "cell_type": "code",
   "execution_count": 3,
   "metadata": {},
   "outputs": [],
   "source": [
    "nums = gen_lin_norm(1000000,SEED,1013904223,1664525,2**32)"
   ]
  },
  {
   "cell_type": "markdown",
   "metadata": {},
   "source": [
    "## Ejercicio 8: \n",
    "### Aplicar un gap test al generador congruencial lineal implementado en el ejercicio 1 utilizando el intervalo [0,3 - 0,6].\n",
    "### Analizar el resultado obtenido, e indicar si la distribución de probabilidades pasa o no el test.\n",
    "### Considerar un nivel de significación del 1%.\n",
    "### En caso que la distribución de probabilidades no pase el test con un nivel de significación del 1% volver a realizarlo con un nivel de significación del 5%."
   ]
  },
  {
   "cell_type": "code",
   "execution_count": 64,
   "metadata": {},
   "outputs": [],
   "source": [
    "contador = 0\n",
    "frecuencias_gap_test = []\n",
    "for i in range(len(nums)):\n",
    "    if ((nums[i] >= 0.3) & (nums[i] <= 0.6)):\n",
    "        if (contador > 0):\n",
    "            frecuencias_gap_test.append(contador)\n",
    "        contador = 0\n",
    "    else:\n",
    "        contador+=1"
   ]
  },
  {
   "cell_type": "code",
   "execution_count": 76,
   "metadata": {},
   "outputs": [],
   "source": [
    "def obtener_frecuencias(val):\n",
    "    frecuencias = []\n",
    "    contador = 0\n",
    "    for i in range(1, max(val) + 1):\n",
    "        for j in val:\n",
    "            if (j == i):\n",
    "                contador += 1\n",
    "        frecuencias.append(contador)\n",
    "        contador = 0\n",
    "    return frecuencias\n",
    "\n",
    "#X es un numero natural\n",
    "#P es la probabilidad de exito\n",
    "def geometric_prob(x):\n",
    "    p = 0.3\n",
    "    probabilidad = ((1-p)**(x-1))*p\n",
    "    return probabilidad\n",
    "\n",
    "#val es el vector con cada valor obtenido por el generador aleatorio\n",
    "#p_x es la funcion que da la probabilidad para cada x\n",
    "def chisquare_test_geom(val): \n",
    "    estadistico = 0\n",
    "    frecuencias = obtener_frecuencias(val)\n",
    "    n = sum(frecuencias)\n",
    "    for i in range(len(frecuencias)):\n",
    "        estadistico += ((frecuencias[i]-n*geometric_prob(i+1))**2) / (n*geometric_prob(i+1))\n",
    "    return estadistico"
   ]
  },
  {
   "cell_type": "markdown",
   "metadata": {},
   "source": [
    "## Hallo estadistico con formula de la clase"
   ]
  },
  {
   "cell_type": "code",
   "execution_count": 77,
   "metadata": {},
   "outputs": [
    {
     "data": {
      "text/plain": [
       "2282.5797111545985"
      ]
     },
     "execution_count": 77,
     "metadata": {},
     "output_type": "execute_result"
    }
   ],
   "source": [
    "estadistico_chi_2 = chisquare_test_geom(frecuencias_gap_test)\n",
    "estadistico_chi_2"
   ]
  },
  {
   "cell_type": "markdown",
   "metadata": {},
   "source": [
    "## Hallo estadistico con scipy"
   ]
  },
  {
   "cell_type": "code",
   "execution_count": 78,
   "metadata": {},
   "outputs": [
    {
     "data": {
      "text/plain": [
       "Power_divergenceResult(statistic=2283.7576235511506, pvalue=0.0)"
      ]
     },
     "execution_count": 78,
     "metadata": {},
     "output_type": "execute_result"
    }
   ],
   "source": [
    "frecuencias_observadas = obtener_frecuencias(frecuencias_gap_test)\n",
    "frecuencias_esperadas = []\n",
    "for i in range(len(frecuencias_observadas)):\n",
    "    frecuencias_esperadas.append(round(geometric_prob(i+1) * sum(frecuencias_observadas), 0))\n",
    "chisquare(frecuencias_observadas, frecuencias_esperadas)"
   ]
  },
  {
   "cell_type": "code",
   "execution_count": 79,
   "metadata": {},
   "outputs": [
    {
     "data": {
      "image/png": "[encoded data removed]",
      "text/plain": [
       "<Figure size 720x720 with 1 Axes>"
      ]
     },
     "metadata": {
      "needs_background": "light"
     },
     "output_type": "display_data"
    }
   ],
   "source": [
    "ticksx = []\n",
    "for i in range(31):\n",
    "    ticksx.append(i)\n",
    "plt.hist(frecuencias_gap_test, edgecolor='k', bins=31)\n",
    "plt.xlim(left=0)\n",
    "plt.xticks(ticksx)\n",
    "plt.title('Frecuencias del gap-test\\n', fontsize=15)\n",
    "plt.xlabel('Cantidad de veces seguidas en las que no se genero un numero entre 0.3 y 0.6', fontsize=12)\n",
    "plt.ylabel('Frecuencia', fontsize=12, rotation=0)\n",
    "plt.grid();"
   ]
  },
  {
   "cell_type": "markdown",
   "metadata": {},
   "source": [
    "# Debido a que el estadistico es altisimo (p-valor -> 0) pasa el test chi² y el gap test (En el histograma se ven que las frecuencias obtenidas en el test tienen la forma de una distribucion geometrica que era lo esperado)"
   ]
  },
  {
   "cell_type": "markdown",
   "metadata": {},
   "source": [
    "## Hipotesis nula rechazada: El generador no es aleatorio"
   ]
  },
  {
   "cell_type": "code",
   "execution_count": null,
   "metadata": {},
   "outputs": [],
   "source": []
  }
 ],
 "metadata": {
  "kernelspec": {
   "display_name": "Python 3",
   "language": "python",
   "name": "python3"
  },
  "language_info": {
   "codemirror_mode": {
    "name": "ipython",
    "version": 3
   },
   "file_extension": ".py",
   "mimetype": "text/x-python",
   "name": "python",
   "nbconvert_exporter": "python",
   "pygments_lexer": "ipython3",
   "version": "3.6.8"
  }
 },
 "nbformat": 4,
 "nbformat_minor": 4
}
